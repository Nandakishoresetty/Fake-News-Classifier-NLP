{
 "cells": [
  {
   "cell_type": "markdown",
   "id": "2b0c2c18",
   "metadata": {},
   "source": [
    "##### Dataset: https://www.kaggle.com/c/fake-news/data#"
   ]
  },
  {
   "cell_type": "code",
   "execution_count": 230,
   "id": "2fac3c98",
   "metadata": {},
   "outputs": [],
   "source": [
    "import pandas as pd"
   ]
  },
  {
   "cell_type": "code",
   "execution_count": 231,
   "id": "c1cff61e",
   "metadata": {},
   "outputs": [
    {
     "name": "stdout",
     "output_type": "stream",
     "text": [
      "C:\\Users\\INTEL\\Desktop\\Practice datasets\\Fake News Classifier - NLP\\fake-news\n"
     ]
    }
   ],
   "source": [
    "import io\n",
    "%cd \"C:\\Users\\INTEL\\Desktop\\Practice datasets\\Fake News Classifier - NLP\\fake-news\""
   ]
  },
  {
   "cell_type": "code",
   "execution_count": 232,
   "id": "f0fffbb0",
   "metadata": {},
   "outputs": [],
   "source": [
    "data=pd.read_csv(\"train.csv\")"
   ]
  },
  {
   "cell_type": "code",
   "execution_count": 233,
   "id": "102395d5",
   "metadata": {},
   "outputs": [
    {
     "data": {
      "text/html": [
       "<div>\n",
       "<style scoped>\n",
       "    .dataframe tbody tr th:only-of-type {\n",
       "        vertical-align: middle;\n",
       "    }\n",
       "\n",
       "    .dataframe tbody tr th {\n",
       "        vertical-align: top;\n",
       "    }\n",
       "\n",
       "    .dataframe thead th {\n",
       "        text-align: right;\n",
       "    }\n",
       "</style>\n",
       "<table border=\"1\" class=\"dataframe\">\n",
       "  <thead>\n",
       "    <tr style=\"text-align: right;\">\n",
       "      <th></th>\n",
       "      <th>id</th>\n",
       "      <th>title</th>\n",
       "      <th>author</th>\n",
       "      <th>text</th>\n",
       "      <th>label</th>\n",
       "    </tr>\n",
       "  </thead>\n",
       "  <tbody>\n",
       "    <tr>\n",
       "      <th>0</th>\n",
       "      <td>0</td>\n",
       "      <td>House Dem Aide: We Didn’t Even See Comey’s Let...</td>\n",
       "      <td>Darrell Lucus</td>\n",
       "      <td>House Dem Aide: We Didn’t Even See Comey’s Let...</td>\n",
       "      <td>1</td>\n",
       "    </tr>\n",
       "    <tr>\n",
       "      <th>1</th>\n",
       "      <td>1</td>\n",
       "      <td>FLYNN: Hillary Clinton, Big Woman on Campus - ...</td>\n",
       "      <td>Daniel J. Flynn</td>\n",
       "      <td>Ever get the feeling your life circles the rou...</td>\n",
       "      <td>0</td>\n",
       "    </tr>\n",
       "    <tr>\n",
       "      <th>2</th>\n",
       "      <td>2</td>\n",
       "      <td>Why the Truth Might Get You Fired</td>\n",
       "      <td>Consortiumnews.com</td>\n",
       "      <td>Why the Truth Might Get You Fired October 29, ...</td>\n",
       "      <td>1</td>\n",
       "    </tr>\n",
       "    <tr>\n",
       "      <th>3</th>\n",
       "      <td>3</td>\n",
       "      <td>15 Civilians Killed In Single US Airstrike Hav...</td>\n",
       "      <td>Jessica Purkiss</td>\n",
       "      <td>Videos 15 Civilians Killed In Single US Airstr...</td>\n",
       "      <td>1</td>\n",
       "    </tr>\n",
       "    <tr>\n",
       "      <th>4</th>\n",
       "      <td>4</td>\n",
       "      <td>Iranian woman jailed for fictional unpublished...</td>\n",
       "      <td>Howard Portnoy</td>\n",
       "      <td>Print \\nAn Iranian woman has been sentenced to...</td>\n",
       "      <td>1</td>\n",
       "    </tr>\n",
       "  </tbody>\n",
       "</table>\n",
       "</div>"
      ],
      "text/plain": [
       "   id                                              title              author  \\\n",
       "0   0  House Dem Aide: We Didn’t Even See Comey’s Let...       Darrell Lucus   \n",
       "1   1  FLYNN: Hillary Clinton, Big Woman on Campus - ...     Daniel J. Flynn   \n",
       "2   2                  Why the Truth Might Get You Fired  Consortiumnews.com   \n",
       "3   3  15 Civilians Killed In Single US Airstrike Hav...     Jessica Purkiss   \n",
       "4   4  Iranian woman jailed for fictional unpublished...      Howard Portnoy   \n",
       "\n",
       "                                                text  label  \n",
       "0  House Dem Aide: We Didn’t Even See Comey’s Let...      1  \n",
       "1  Ever get the feeling your life circles the rou...      0  \n",
       "2  Why the Truth Might Get You Fired October 29, ...      1  \n",
       "3  Videos 15 Civilians Killed In Single US Airstr...      1  \n",
       "4  Print \\nAn Iranian woman has been sentenced to...      1  "
      ]
     },
     "execution_count": 233,
     "metadata": {},
     "output_type": "execute_result"
    }
   ],
   "source": [
    "data.head()"
   ]
  },
  {
   "cell_type": "code",
   "execution_count": 234,
   "id": "209de9cc",
   "metadata": {},
   "outputs": [
    {
     "data": {
      "text/plain": [
       "(20800, 5)"
      ]
     },
     "execution_count": 234,
     "metadata": {},
     "output_type": "execute_result"
    }
   ],
   "source": [
    "data.shape"
   ]
  },
  {
   "cell_type": "code",
   "execution_count": 235,
   "id": "1e631ec3",
   "metadata": {},
   "outputs": [],
   "source": [
    "data.dropna(inplace=True)"
   ]
  },
  {
   "cell_type": "code",
   "execution_count": 236,
   "id": "0d3b5a09",
   "metadata": {},
   "outputs": [],
   "source": [
    "data=data.reset_index()"
   ]
  },
  {
   "cell_type": "code",
   "execution_count": 237,
   "id": "1307b4ff",
   "metadata": {},
   "outputs": [
    {
     "data": {
      "text/html": [
       "<div>\n",
       "<style scoped>\n",
       "    .dataframe tbody tr th:only-of-type {\n",
       "        vertical-align: middle;\n",
       "    }\n",
       "\n",
       "    .dataframe tbody tr th {\n",
       "        vertical-align: top;\n",
       "    }\n",
       "\n",
       "    .dataframe thead th {\n",
       "        text-align: right;\n",
       "    }\n",
       "</style>\n",
       "<table border=\"1\" class=\"dataframe\">\n",
       "  <thead>\n",
       "    <tr style=\"text-align: right;\">\n",
       "      <th></th>\n",
       "      <th>index</th>\n",
       "      <th>id</th>\n",
       "      <th>title</th>\n",
       "      <th>author</th>\n",
       "      <th>text</th>\n",
       "      <th>label</th>\n",
       "    </tr>\n",
       "  </thead>\n",
       "  <tbody>\n",
       "    <tr>\n",
       "      <th>0</th>\n",
       "      <td>0</td>\n",
       "      <td>0</td>\n",
       "      <td>House Dem Aide: We Didn’t Even See Comey’s Let...</td>\n",
       "      <td>Darrell Lucus</td>\n",
       "      <td>House Dem Aide: We Didn’t Even See Comey’s Let...</td>\n",
       "      <td>1</td>\n",
       "    </tr>\n",
       "    <tr>\n",
       "      <th>1</th>\n",
       "      <td>1</td>\n",
       "      <td>1</td>\n",
       "      <td>FLYNN: Hillary Clinton, Big Woman on Campus - ...</td>\n",
       "      <td>Daniel J. Flynn</td>\n",
       "      <td>Ever get the feeling your life circles the rou...</td>\n",
       "      <td>0</td>\n",
       "    </tr>\n",
       "    <tr>\n",
       "      <th>2</th>\n",
       "      <td>2</td>\n",
       "      <td>2</td>\n",
       "      <td>Why the Truth Might Get You Fired</td>\n",
       "      <td>Consortiumnews.com</td>\n",
       "      <td>Why the Truth Might Get You Fired October 29, ...</td>\n",
       "      <td>1</td>\n",
       "    </tr>\n",
       "    <tr>\n",
       "      <th>3</th>\n",
       "      <td>3</td>\n",
       "      <td>3</td>\n",
       "      <td>15 Civilians Killed In Single US Airstrike Hav...</td>\n",
       "      <td>Jessica Purkiss</td>\n",
       "      <td>Videos 15 Civilians Killed In Single US Airstr...</td>\n",
       "      <td>1</td>\n",
       "    </tr>\n",
       "    <tr>\n",
       "      <th>4</th>\n",
       "      <td>4</td>\n",
       "      <td>4</td>\n",
       "      <td>Iranian woman jailed for fictional unpublished...</td>\n",
       "      <td>Howard Portnoy</td>\n",
       "      <td>Print \\nAn Iranian woman has been sentenced to...</td>\n",
       "      <td>1</td>\n",
       "    </tr>\n",
       "  </tbody>\n",
       "</table>\n",
       "</div>"
      ],
      "text/plain": [
       "   index  id                                              title  \\\n",
       "0      0   0  House Dem Aide: We Didn’t Even See Comey’s Let...   \n",
       "1      1   1  FLYNN: Hillary Clinton, Big Woman on Campus - ...   \n",
       "2      2   2                  Why the Truth Might Get You Fired   \n",
       "3      3   3  15 Civilians Killed In Single US Airstrike Hav...   \n",
       "4      4   4  Iranian woman jailed for fictional unpublished...   \n",
       "\n",
       "               author                                               text  \\\n",
       "0       Darrell Lucus  House Dem Aide: We Didn’t Even See Comey’s Let...   \n",
       "1     Daniel J. Flynn  Ever get the feeling your life circles the rou...   \n",
       "2  Consortiumnews.com  Why the Truth Might Get You Fired October 29, ...   \n",
       "3     Jessica Purkiss  Videos 15 Civilians Killed In Single US Airstr...   \n",
       "4      Howard Portnoy  Print \\nAn Iranian woman has been sentenced to...   \n",
       "\n",
       "   label  \n",
       "0      1  \n",
       "1      0  \n",
       "2      1  \n",
       "3      1  \n",
       "4      1  "
      ]
     },
     "execution_count": 237,
     "metadata": {},
     "output_type": "execute_result"
    }
   ],
   "source": [
    "data.head()"
   ]
  },
  {
   "cell_type": "code",
   "execution_count": 238,
   "id": "16062f72",
   "metadata": {},
   "outputs": [],
   "source": [
    "messages=data.drop(['index','id','label'],1)"
   ]
  },
  {
   "cell_type": "code",
   "execution_count": 239,
   "id": "29a677cd",
   "metadata": {},
   "outputs": [
    {
     "data": {
      "text/plain": [
       "(18285, 3)"
      ]
     },
     "execution_count": 239,
     "metadata": {},
     "output_type": "execute_result"
    }
   ],
   "source": [
    "messages.shape"
   ]
  },
  {
   "cell_type": "code",
   "execution_count": 240,
   "id": "02e49a59",
   "metadata": {},
   "outputs": [
    {
     "data": {
      "text/html": [
       "<div>\n",
       "<style scoped>\n",
       "    .dataframe tbody tr th:only-of-type {\n",
       "        vertical-align: middle;\n",
       "    }\n",
       "\n",
       "    .dataframe tbody tr th {\n",
       "        vertical-align: top;\n",
       "    }\n",
       "\n",
       "    .dataframe thead th {\n",
       "        text-align: right;\n",
       "    }\n",
       "</style>\n",
       "<table border=\"1\" class=\"dataframe\">\n",
       "  <thead>\n",
       "    <tr style=\"text-align: right;\">\n",
       "      <th></th>\n",
       "      <th>title</th>\n",
       "      <th>author</th>\n",
       "      <th>text</th>\n",
       "    </tr>\n",
       "  </thead>\n",
       "  <tbody>\n",
       "    <tr>\n",
       "      <th>0</th>\n",
       "      <td>House Dem Aide: We Didn’t Even See Comey’s Let...</td>\n",
       "      <td>Darrell Lucus</td>\n",
       "      <td>House Dem Aide: We Didn’t Even See Comey’s Let...</td>\n",
       "    </tr>\n",
       "    <tr>\n",
       "      <th>1</th>\n",
       "      <td>FLYNN: Hillary Clinton, Big Woman on Campus - ...</td>\n",
       "      <td>Daniel J. Flynn</td>\n",
       "      <td>Ever get the feeling your life circles the rou...</td>\n",
       "    </tr>\n",
       "    <tr>\n",
       "      <th>2</th>\n",
       "      <td>Why the Truth Might Get You Fired</td>\n",
       "      <td>Consortiumnews.com</td>\n",
       "      <td>Why the Truth Might Get You Fired October 29, ...</td>\n",
       "    </tr>\n",
       "    <tr>\n",
       "      <th>3</th>\n",
       "      <td>15 Civilians Killed In Single US Airstrike Hav...</td>\n",
       "      <td>Jessica Purkiss</td>\n",
       "      <td>Videos 15 Civilians Killed In Single US Airstr...</td>\n",
       "    </tr>\n",
       "    <tr>\n",
       "      <th>4</th>\n",
       "      <td>Iranian woman jailed for fictional unpublished...</td>\n",
       "      <td>Howard Portnoy</td>\n",
       "      <td>Print \\nAn Iranian woman has been sentenced to...</td>\n",
       "    </tr>\n",
       "  </tbody>\n",
       "</table>\n",
       "</div>"
      ],
      "text/plain": [
       "                                               title              author  \\\n",
       "0  House Dem Aide: We Didn’t Even See Comey’s Let...       Darrell Lucus   \n",
       "1  FLYNN: Hillary Clinton, Big Woman on Campus - ...     Daniel J. Flynn   \n",
       "2                  Why the Truth Might Get You Fired  Consortiumnews.com   \n",
       "3  15 Civilians Killed In Single US Airstrike Hav...     Jessica Purkiss   \n",
       "4  Iranian woman jailed for fictional unpublished...      Howard Portnoy   \n",
       "\n",
       "                                                text  \n",
       "0  House Dem Aide: We Didn’t Even See Comey’s Let...  \n",
       "1  Ever get the feeling your life circles the rou...  \n",
       "2  Why the Truth Might Get You Fired October 29, ...  \n",
       "3  Videos 15 Civilians Killed In Single US Airstr...  \n",
       "4  Print \\nAn Iranian woman has been sentenced to...  "
      ]
     },
     "execution_count": 240,
     "metadata": {},
     "output_type": "execute_result"
    }
   ],
   "source": [
    "messages.head()"
   ]
  },
  {
   "cell_type": "code",
   "execution_count": 241,
   "id": "b138d143",
   "metadata": {},
   "outputs": [],
   "source": [
    "import re\n",
    "import nltk\n",
    "from nltk.stem import WordNetLemmatizer\n",
    "from nltk.corpus import stopwords\n",
    "import textblob\n",
    "from textblob import TextBlob\n",
    "import numpy as np"
   ]
  },
  {
   "cell_type": "code",
   "execution_count": 242,
   "id": "e00ac74a",
   "metadata": {},
   "outputs": [],
   "source": [
    "lemmatizer=WordNetLemmatizer()\n",
    "stwords=stopwords.words('english')"
   ]
  },
  {
   "cell_type": "code",
   "execution_count": 243,
   "id": "2eced02b",
   "metadata": {},
   "outputs": [
    {
     "data": {
      "text/plain": [
       "'Anonymous Donor Pays $2.5 Million To Release Everyone Arrested At The Dakota Access Pipeline'"
      ]
     },
     "execution_count": 243,
     "metadata": {},
     "output_type": "execute_result"
    }
   ],
   "source": [
    "messages['title'][15]"
   ]
  },
  {
   "cell_type": "code",
   "execution_count": 244,
   "id": "931b106c",
   "metadata": {},
   "outputs": [
    {
     "data": {
      "text/plain": [
       "['anonymous',\n",
       " 'donor',\n",
       " 'pays',\n",
       " 'million',\n",
       " 'to',\n",
       " 'release',\n",
       " 'everyone',\n",
       " 'arrested',\n",
       " 'at',\n",
       " 'the',\n",
       " 'dakota',\n",
       " 'access',\n",
       " 'pipeline']"
      ]
     },
     "execution_count": 244,
     "metadata": {},
     "output_type": "execute_result"
    }
   ],
   "source": [
    "re.sub('[^a-zA-Z]',' ',messages['title'][15]).lower().split()"
   ]
  },
  {
   "cell_type": "code",
   "execution_count": 245,
   "id": "2f61cf7b",
   "metadata": {},
   "outputs": [],
   "source": [
    "def text_preprocessing(dt):\n",
    "    corpus=[]\n",
    "    for i in range(len(dt)):\n",
    "        review=re.sub('[^a-zA-Z]',' ',dt[i])\n",
    "        review=review.lower().split()\n",
    "        review=[lemmatizer.lemmatize(word) for word in review if word not in stwords]\n",
    "        corpus.append(' '.join(review))\n",
    "    return corpus"
   ]
  },
  {
   "cell_type": "code",
   "execution_count": 246,
   "id": "226b76c2",
   "metadata": {},
   "outputs": [],
   "source": [
    "def analyze_sentiment(text):\n",
    "    analysis=TextBlob(text)\n",
    "    if analysis.sentiment.polarity>0:\n",
    "        return 'Positive'\n",
    "    elif analysis.sentiment.polarity==0:\n",
    "        return 'Neutral'\n",
    "    else:\n",
    "        return 'Negative'"
   ]
  },
  {
   "cell_type": "code",
   "execution_count": 247,
   "id": "52b74015",
   "metadata": {},
   "outputs": [],
   "source": [
    "clean_text=text_preprocessing(messages['title'])"
   ]
  },
  {
   "cell_type": "code",
   "execution_count": 248,
   "id": "6907de2e",
   "metadata": {},
   "outputs": [
    {
     "data": {
      "text/plain": [
       "['house dem aide even see comey letter jason chaffetz tweeted',\n",
       " 'flynn hillary clinton big woman campus breitbart',\n",
       " 'truth might get fired',\n",
       " 'civilian killed single u airstrike identified',\n",
       " 'iranian woman jailed fictional unpublished story woman stoned death adultery',\n",
       " 'jackie mason hollywood would love trump bombed north korea lack trans bathroom exclusive video breitbart',\n",
       " 'beno hamon win french socialist party presidential nomination new york time',\n",
       " 'back channel plan ukraine russia courtesy trump associate new york time',\n",
       " 'obama organizing action partner soros linked indivisible disrupt trump agenda',\n",
       " 'bbc comedy sketch real housewife isi cause outrage']"
      ]
     },
     "execution_count": 248,
     "metadata": {},
     "output_type": "execute_result"
    }
   ],
   "source": [
    "clean_text[:10]"
   ]
  },
  {
   "cell_type": "code",
   "execution_count": 249,
   "id": "68f3630b",
   "metadata": {},
   "outputs": [],
   "source": [
    "sentiment_analysis=pd.DataFrame(clean_text,columns=['text'])\n",
    "sentiment_analysis['sentiment']=0"
   ]
  },
  {
   "cell_type": "code",
   "execution_count": 250,
   "id": "89bce592",
   "metadata": {},
   "outputs": [
    {
     "name": "stderr",
     "output_type": "stream",
     "text": [
      "C:\\Users\\INTEL\\anaconda3\\lib\\site-packages\\pandas\\core\\indexing.py:1637: SettingWithCopyWarning: \n",
      "A value is trying to be set on a copy of a slice from a DataFrame\n",
      "\n",
      "See the caveats in the documentation: https://pandas.pydata.org/pandas-docs/stable/user_guide/indexing.html#returning-a-view-versus-a-copy\n",
      "  self._setitem_single_block(indexer, value, name)\n"
     ]
    }
   ],
   "source": [
    "for i in range(len(clean_text)):\n",
    "    sentiment_analysis['sentiment'].iloc[i]=analyze_sentiment(clean_text[i])"
   ]
  },
  {
   "cell_type": "code",
   "execution_count": 251,
   "id": "146931ab",
   "metadata": {},
   "outputs": [
    {
     "data": {
      "text/html": [
       "<div>\n",
       "<style scoped>\n",
       "    .dataframe tbody tr th:only-of-type {\n",
       "        vertical-align: middle;\n",
       "    }\n",
       "\n",
       "    .dataframe tbody tr th {\n",
       "        vertical-align: top;\n",
       "    }\n",
       "\n",
       "    .dataframe thead th {\n",
       "        text-align: right;\n",
       "    }\n",
       "</style>\n",
       "<table border=\"1\" class=\"dataframe\">\n",
       "  <thead>\n",
       "    <tr style=\"text-align: right;\">\n",
       "      <th></th>\n",
       "      <th>text</th>\n",
       "      <th>sentiment</th>\n",
       "    </tr>\n",
       "  </thead>\n",
       "  <tbody>\n",
       "    <tr>\n",
       "      <th>0</th>\n",
       "      <td>house dem aide even see comey letter jason cha...</td>\n",
       "      <td>Neutral</td>\n",
       "    </tr>\n",
       "    <tr>\n",
       "      <th>1</th>\n",
       "      <td>flynn hillary clinton big woman campus breitbart</td>\n",
       "      <td>Neutral</td>\n",
       "    </tr>\n",
       "    <tr>\n",
       "      <th>2</th>\n",
       "      <td>truth might get fired</td>\n",
       "      <td>Neutral</td>\n",
       "    </tr>\n",
       "    <tr>\n",
       "      <th>3</th>\n",
       "      <td>civilian killed single u airstrike identified</td>\n",
       "      <td>Negative</td>\n",
       "    </tr>\n",
       "    <tr>\n",
       "      <th>4</th>\n",
       "      <td>iranian woman jailed fictional unpublished sto...</td>\n",
       "      <td>Neutral</td>\n",
       "    </tr>\n",
       "    <tr>\n",
       "      <th>5</th>\n",
       "      <td>jackie mason hollywood would love trump bombed...</td>\n",
       "      <td>Positive</td>\n",
       "    </tr>\n",
       "    <tr>\n",
       "      <th>6</th>\n",
       "      <td>beno hamon win french socialist party presiden...</td>\n",
       "      <td>Positive</td>\n",
       "    </tr>\n",
       "    <tr>\n",
       "      <th>7</th>\n",
       "      <td>back channel plan ukraine russia courtesy trum...</td>\n",
       "      <td>Positive</td>\n",
       "    </tr>\n",
       "    <tr>\n",
       "      <th>8</th>\n",
       "      <td>obama organizing action partner soros linked i...</td>\n",
       "      <td>Positive</td>\n",
       "    </tr>\n",
       "    <tr>\n",
       "      <th>9</th>\n",
       "      <td>bbc comedy sketch real housewife isi cause out...</td>\n",
       "      <td>Positive</td>\n",
       "    </tr>\n",
       "  </tbody>\n",
       "</table>\n",
       "</div>"
      ],
      "text/plain": [
       "                                                text sentiment\n",
       "0  house dem aide even see comey letter jason cha...   Neutral\n",
       "1   flynn hillary clinton big woman campus breitbart   Neutral\n",
       "2                              truth might get fired   Neutral\n",
       "3      civilian killed single u airstrike identified  Negative\n",
       "4  iranian woman jailed fictional unpublished sto...   Neutral\n",
       "5  jackie mason hollywood would love trump bombed...  Positive\n",
       "6  beno hamon win french socialist party presiden...  Positive\n",
       "7  back channel plan ukraine russia courtesy trum...  Positive\n",
       "8  obama organizing action partner soros linked i...  Positive\n",
       "9  bbc comedy sketch real housewife isi cause out...  Positive"
      ]
     },
     "execution_count": 251,
     "metadata": {},
     "output_type": "execute_result"
    }
   ],
   "source": [
    "sentiment_analysis.head(10)"
   ]
  },
  {
   "cell_type": "code",
   "execution_count": 252,
   "id": "1c14197c",
   "metadata": {},
   "outputs": [],
   "source": [
    "from sklearn.feature_extraction.text import CountVectorizer, TfidfVectorizer"
   ]
  },
  {
   "cell_type": "code",
   "execution_count": 253,
   "id": "1f590fba",
   "metadata": {},
   "outputs": [
    {
     "data": {
      "text/plain": [
       "CountVectorizer()"
      ]
     },
     "execution_count": 253,
     "metadata": {},
     "output_type": "execute_result"
    }
   ],
   "source": [
    "cv=CountVectorizer(max_features=10000,ngram_range=(1,3))\n",
    "CountVectorizer()"
   ]
  },
  {
   "cell_type": "code",
   "execution_count": 254,
   "id": "e4e329e5",
   "metadata": {},
   "outputs": [],
   "source": [
    "X=cv.fit_transform(clean_text).toarray()"
   ]
  },
  {
   "cell_type": "code",
   "execution_count": 255,
   "id": "5916e87e",
   "metadata": {},
   "outputs": [],
   "source": [
    "y=data.label"
   ]
  },
  {
   "cell_type": "code",
   "execution_count": 256,
   "id": "b9929faa",
   "metadata": {},
   "outputs": [
    {
     "data": {
      "text/plain": [
       "['aaron',\n",
       " 'ab',\n",
       " 'abandon',\n",
       " 'abandoned',\n",
       " 'abbas',\n",
       " 'abc',\n",
       " 'abc news',\n",
       " 'abduction',\n",
       " 'abduction ring',\n",
       " 'abduction ring exposed']"
      ]
     },
     "execution_count": 256,
     "metadata": {},
     "output_type": "execute_result"
    }
   ],
   "source": [
    "cv.get_feature_names()[:10]"
   ]
  },
  {
   "cell_type": "code",
   "execution_count": 264,
   "id": "70ed9638",
   "metadata": {},
   "outputs": [
    {
     "data": {
      "text/plain": [
       "{'house': 4124,\n",
       " 'dem': 2291,\n",
       " 'aide': 194,\n",
       " 'even': 2948,\n",
       " 'see': 7707,\n",
       " 'comey': 1729,\n",
       " 'letter': 4936,\n",
       " 'jason': 4497,\n",
       " 'chaffetz': 1362,\n",
       " 'comey letter': 1737,\n",
       " 'jason chaffetz': 4498,\n",
       " 'flynn': 3353,\n",
       " 'hillary': 3984,\n",
       " 'clinton': 1571,\n",
       " 'big': 835,\n",
       " 'woman': 9841,\n",
       " 'campus': 1232,\n",
       " 'breitbart': 1049,\n",
       " 'hillary clinton': 3988,\n",
       " 'campus breitbart': 1233,\n",
       " 'truth': 9174,\n",
       " 'might': 5426,\n",
       " 'get': 3603,\n",
       " 'fired': 3274,\n",
       " 'civilian': 1517,\n",
       " 'killed': 4688,\n",
       " 'single': 7954,\n",
       " 'airstrike': 212,\n",
       " 'identified': 4199,\n",
       " 'civilian killed': 1518,\n",
       " 'iranian': 4431,\n",
       " 'jailed': 4479,\n",
       " 'fictional': 3222,\n",
       " 'story': 8300,\n",
       " 'death': 2210,\n",
       " 'jackie': 4475,\n",
       " 'mason': 5260,\n",
       " 'hollywood': 4066,\n",
       " 'would': 9906,\n",
       " 'love': 5084,\n",
       " 'trump': 8950,\n",
       " 'bombed': 962,\n",
       " 'north': 5898,\n",
       " 'korea': 4731,\n",
       " 'lack': 4768,\n",
       " 'trans': 8883,\n",
       " 'bathroom': 720,\n",
       " 'exclusive': 2978,\n",
       " 'video': 9422,\n",
       " 'jackie mason': 4476,\n",
       " 'would love': 9910,\n",
       " 'north korea': 5901,\n",
       " 'exclusive video': 2984,\n",
       " 'video breitbart': 9423,\n",
       " 'win': 9801,\n",
       " 'french': 3479,\n",
       " 'socialist': 8032,\n",
       " 'party': 6286,\n",
       " 'presidential': 6708,\n",
       " 'nomination': 5888,\n",
       " 'new': 5764,\n",
       " 'york': 9965,\n",
       " 'time': 8769,\n",
       " 'nomination new': 5889,\n",
       " 'new york': 5820,\n",
       " 'york time': 9970,\n",
       " 'nomination new york': 5890,\n",
       " 'new york time': 5824,\n",
       " 'back': 638,\n",
       " 'channel': 1387,\n",
       " 'plan': 6479,\n",
       " 'ukraine': 9248,\n",
       " 'russia': 7484,\n",
       " 'associate': 533,\n",
       " 'trump associate': 8963,\n",
       " 'obama': 5976,\n",
       " 'action': 82,\n",
       " 'partner': 6285,\n",
       " 'soros': 8066,\n",
       " 'linked': 5007,\n",
       " 'disrupt': 2477,\n",
       " 'agenda': 167,\n",
       " 'trump agenda': 8955,\n",
       " 'bbc': 735,\n",
       " 'comedy': 1726,\n",
       " 'real': 7050,\n",
       " 'housewife': 4141,\n",
       " 'isi': 4441,\n",
       " 'cause': 1328,\n",
       " 'outrage': 6194,\n",
       " 'russian': 7500,\n",
       " 'researcher': 7236,\n",
       " 'discover': 2454,\n",
       " 'secret': 7686,\n",
       " 'nazi': 5715,\n",
       " 'military': 5444,\n",
       " 'base': 709,\n",
       " 'treasure': 8906,\n",
       " 'hunter': 4176,\n",
       " 'arctic': 461,\n",
       " 'photo': 6428,\n",
       " 'military base': 5445,\n",
       " 'official': 6073,\n",
       " 'link': 5006,\n",
       " 'official see': 6076,\n",
       " 'trump russia': 9113,\n",
       " 'yes': 9957,\n",
       " 'paid': 6225,\n",
       " 'government': 3712,\n",
       " 'troll': 8935,\n",
       " 'social': 8026,\n",
       " 'medium': 5331,\n",
       " 'blog': 919,\n",
       " 'forum': 3414,\n",
       " 'website': 9669,\n",
       " 'social medium': 8028,\n",
       " 'major': 5147,\n",
       " 'league': 4855,\n",
       " 'soccer': 8025,\n",
       " 'find': 3258,\n",
       " 'home': 4080,\n",
       " 'success': 8376,\n",
       " 'success new': 8378,\n",
       " 'success new york': 8379,\n",
       " 'well': 9704,\n",
       " 'fargo': 3123,\n",
       " 'chief': 1439,\n",
       " 'step': 8258,\n",
       " 'well fargo': 9705,\n",
       " 'step new': 8260,\n",
       " 'step new york': 8261,\n",
       " 'anonymous': 385,\n",
       " 'donor': 2551,\n",
       " 'pay': 6333,\n",
       " 'million': 5458,\n",
       " 'release': 7147,\n",
       " 'everyone': 2962,\n",
       " 'arrested': 480,\n",
       " 'dakota': 2123,\n",
       " 'access': 43,\n",
       " 'pipeline': 6453,\n",
       " 'pay million': 6334,\n",
       " 'dakota access': 2124,\n",
       " 'access pipeline': 44,\n",
       " 'dakota access pipeline': 2125,\n",
       " 'fbi': 3154,\n",
       " 'close': 1643,\n",
       " 'chuck': 1492,\n",
       " 'todd': 8794,\n",
       " 'buzzfeed': 1170,\n",
       " 'donald': 2516,\n",
       " 'political': 6569,\n",
       " 'favor': 3150,\n",
       " 'chuck todd': 1493,\n",
       " 'donald trump': 2517,\n",
       " 'monica': 5550,\n",
       " 'sex': 7796,\n",
       " 'scandal': 7601,\n",
       " 'set': 7782,\n",
       " 'american': 326,\n",
       " 'crime': 2031,\n",
       " 'sex scandal': 7799,\n",
       " 'rob': 7386,\n",
       " 'mentally': 5373,\n",
       " 'trump mentally': 9066,\n",
       " 'abortion': 17,\n",
       " 'pill': 6444,\n",
       " 'order': 6155,\n",
       " 'rise': 7372,\n",
       " 'latin': 4814,\n",
       " 'nation': 5693,\n",
       " 'zika': 9984,\n",
       " 'alert': 241,\n",
       " 'alert new': 242,\n",
       " 'nuke': 5947,\n",
       " 'un': 9252,\n",
       " 'historic': 4043,\n",
       " 'treaty': 8911,\n",
       " 'ban': 674,\n",
       " 'nuclear': 5938,\n",
       " 'weapon': 9661,\n",
       " 'nuclear weapon': 5944,\n",
       " 'islamic': 4447,\n",
       " 'state': 8225,\n",
       " 'supporter': 8430,\n",
       " 'vow': 9547,\n",
       " 'shake': 7817,\n",
       " 'west': 9707,\n",
       " 'following': 3361,\n",
       " 'manchester': 5190,\n",
       " 'terrorist': 8644,\n",
       " 'massacre': 5265,\n",
       " 'exclusive islamic': 2979,\n",
       " 'islamic state': 4448,\n",
       " 'state supporter': 8238,\n",
       " 'exclusive islamic state': 2980,\n",
       " 'islamic state supporter': 4449,\n",
       " 'humiliated': 4165,\n",
       " 'try': 9182,\n",
       " 'hide': 3969,\n",
       " 'camera': 1209,\n",
       " 'caught': 1326,\n",
       " 'min': 5476,\n",
       " 'rally': 6990,\n",
       " 'camera caught': 1211,\n",
       " 'andrea': 362,\n",
       " 'fox': 3436,\n",
       " 'news': 5831,\n",
       " 'claim': 1524,\n",
       " 'retaliation': 7275,\n",
       " 'harassment': 3860,\n",
       " 'complaint': 1797,\n",
       " 'fox news': 3437,\n",
       " 'became': 747,\n",
       " 'hawk': 3891,\n",
       " 'fake': 3090,\n",
       " 'fake news': 3091,\n",
       " 'news breitbart': 5832,\n",
       " 'fake news breitbart': 3092,\n",
       " 'boris': 988,\n",
       " 'johnson': 4562,\n",
       " 'brexit': 1052,\n",
       " 'leader': 4845,\n",
       " 'boris johnson': 989,\n",
       " 'texas': 8668,\n",
       " 'oil': 6083,\n",
       " 'field': 3225,\n",
       " 'price': 6727,\n",
       " 'job': 4544,\n",
       " 'left': 4900,\n",
       " 'behind': 768,\n",
       " 'left behind': 4901,\n",
       " 'behind new': 771,\n",
       " 'bayer': 733,\n",
       " 'deal': 2202,\n",
       " 'monsanto': 5554,\n",
       " 'follows': 3362,\n",
       " 'trend': 8914,\n",
       " 'raising': 6988,\n",
       " 'worry': 9897,\n",
       " 'farmer': 3126,\n",
       " 'move': 5599,\n",
       " 'witness': 9838,\n",
       " 'extremist': 3054,\n",
       " 'still': 8279,\n",
       " 'danger': 2140,\n",
       " 'zone': 9991,\n",
       " 'january': 4490,\n",
       " 'th': 8676,\n",
       " 'open': 6124,\n",
       " 'thread': 8727,\n",
       " 'election': 2725,\n",
       " 'open thread': 6132,\n",
       " 'democrat': 2302,\n",
       " 'blame': 901,\n",
       " 'chicago': 1435,\n",
       " 'gun': 3803,\n",
       " 'violence': 9454,\n",
       " 'nra': 5934,\n",
       " 'avoiding': 613,\n",
       " 'peanut': 6349,\n",
       " 'avoid': 610,\n",
       " 'allergy': 262,\n",
       " 'bad': 650,\n",
       " 'strategy': 8313,\n",
       " 'show': 7892,\n",
       " 'image': 4234,\n",
       " 'week': 9677,\n",
       " 'unborn': 9262,\n",
       " 'baby': 636,\n",
       " 'best': 804,\n",
       " 'kind': 4699,\n",
       " 'milk': 5452,\n",
       " 'dairy': 2122,\n",
       " 'best kind': 806,\n",
       " 'milk dairy': 5453,\n",
       " 'best kind milk': 807,\n",
       " 'ryan': 7513,\n",
       " 'lochte': 5038,\n",
       " 'dropped': 2605,\n",
       " 'usa': 9352,\n",
       " 'retailer': 7271,\n",
       " 'ryan lochte': 7514,\n",
       " 'conservative': 1867,\n",
       " 'urge': 9347,\n",
       " 'session': 7779,\n",
       " 'clean': 1550,\n",
       " 'civil': 1512,\n",
       " 'right': 7351,\n",
       " 'division': 2493,\n",
       " 'civil right': 1513,\n",
       " 'internal': 4367,\n",
       " 'inquiry': 4334,\n",
       " 'fate': 3147,\n",
       " 'roger': 7410,\n",
       " 'ailes': 197,\n",
       " 'roger ailes': 7411,\n",
       " 'press': 6714,\n",
       " 'tv': 9217,\n",
       " 'debate': 2216,\n",
       " 'lebanon': 4890,\n",
       " 'hezbollah': 3965,\n",
       " 'presidency': 6691,\n",
       " 'samsung': 7543,\n",
       " 'galaxy': 3537,\n",
       " 'note': 5908,\n",
       " 'unveils': 9332,\n",
       " 'smartphone': 8000,\n",
       " 'galaxy note': 3538,\n",
       " 'poland': 6540,\n",
       " 'referendum': 7099,\n",
       " 'migrant': 5427,\n",
       " 'eu': 2933,\n",
       " 'pressure': 6720,\n",
       " 'public': 6873,\n",
       " 'voice': 9499,\n",
       " 'heard': 3924,\n",
       " 'inner': 4332,\n",
       " 'revolution': 7317,\n",
       " 'study': 8349,\n",
       " 'half': 3828,\n",
       " 'car': 1266,\n",
       " 'crash': 2008,\n",
       " 'driver': 2599,\n",
       " 'distracted': 2481,\n",
       " 'cell': 1347,\n",
       " 'phone': 6426,\n",
       " 'car crash': 1267,\n",
       " 'spark': 8104,\n",
       " 'individual': 4300,\n",
       " 'collective': 1695,\n",
       " 'healing': 3903,\n",
       " 'trump election': 8996,\n",
       " 'fade': 3078,\n",
       " 'black': 881,\n",
       " 'jimmy': 4540,\n",
       " 'church': 1494,\n",
       " 'laura': 4824,\n",
       " 'balance': 664,\n",
       " 'true': 8948,\n",
       " 'islam': 4446,\n",
       " 'book': 971,\n",
       " 'review': 7310,\n",
       " 'biggest': 839,\n",
       " 'miracle': 5496,\n",
       " 'history': 4045,\n",
       " 'trump win': 9163,\n",
       " 'win election': 9805,\n",
       " 'donald trump win': 2541,\n",
       " 'eating': 2665,\n",
       " 'way': 9655,\n",
       " 'fight': 3229,\n",
       " 'potential': 6634,\n",
       " 'impact': 4255,\n",
       " 'corporate': 1939,\n",
       " 'tax': 8573,\n",
       " 'overhaul': 6203,\n",
       " 'wonder': 9850,\n",
       " 'like': 4982,\n",
       " 'day': 2168,\n",
       " 'day election': 2172,\n",
       " 'maker': 5156,\n",
       " 'world': 9872,\n",
       " 'machine': 5120,\n",
       " 'awarded': 625,\n",
       " 'nobel': 5877,\n",
       " 'prize': 6761,\n",
       " 'nobel prize': 5878,\n",
       " 'massive': 5268,\n",
       " 'anti': 397,\n",
       " 'protest': 6841,\n",
       " 'union': 9291,\n",
       " 'square': 8170,\n",
       " 'nyc': 5966,\n",
       " 'live': 5022,\n",
       " 'stream': 8315,\n",
       " 'anti trump': 404,\n",
       " 'trump protest': 9099,\n",
       " 'anti trump protest': 405,\n",
       " 'lion': 5009,\n",
       " 'brings': 1083,\n",
       " 'tear': 8593,\n",
       " 'lost': 5078,\n",
       " 'boy': 1006,\n",
       " 'dry': 2614,\n",
       " 'google': 3693,\n",
       " 'general': 3583,\n",
       " 'chemical': 1429,\n",
       " 'attack': 550,\n",
       " 'force': 3373,\n",
       " 'chemical attack': 1430,\n",
       " 'jury': 4608,\n",
       " 'oregon': 6164,\n",
       " 'standoff': 8204,\n",
       " 'defendant': 2257,\n",
       " 'guilty': 3799,\n",
       " 'federal': 3189,\n",
       " 'conspiracy': 1874,\n",
       " 'charge': 1395,\n",
       " 'jury find': 4609,\n",
       " 'oregon standoff': 6165,\n",
       " 'standoff defendant': 8205,\n",
       " 'campaign': 1218,\n",
       " 'stunned': 8359,\n",
       " 'reportedly': 7215,\n",
       " 'reopens': 7176,\n",
       " 'probe': 6769,\n",
       " 'email': 2783,\n",
       " 'clinton campaign': 1577,\n",
       " 'clinton email': 1596,\n",
       " 'hillary clinton email': 3994,\n",
       " 'penny': 6369,\n",
       " 'speak': 8106,\n",
       " 'anti abortion': 398,\n",
       " 'rally new': 6991,\n",
       " 'rally new york': 6992,\n",
       " 'bernie': 801,\n",
       " 'sander': 7552,\n",
       " 'say': 7577,\n",
       " 'bernie sander': 802,\n",
       " 'medium trump': 5341,\n",
       " 'make': 5149,\n",
       " 'daily': 2116,\n",
       " 'waste': 9639,\n",
       " 'treason': 8905,\n",
       " 'nyt': 5970,\n",
       " 'reporting': 7217,\n",
       " 'dress': 2591,\n",
       " 'mean': 5309,\n",
       " 'dress like': 2592,\n",
       " 'mean new': 5310,\n",
       " 'mean new york': 5311,\n",
       " 'feed': 3200,\n",
       " 'lead': 4841,\n",
       " 'orleans': 6178,\n",
       " 'lead new': 4842,\n",
       " 'new orleans': 5795,\n",
       " 'asia': 497,\n",
       " 'lightly': 4980,\n",
       " 'human': 4156,\n",
       " 'human right': 4159,\n",
       " 'right new': 7356,\n",
       " 'right new york': 7357,\n",
       " 'percent': 6382,\n",
       " 'chance': 1378,\n",
       " 'retake': 7272,\n",
       " 'senate': 7738,\n",
       " 'senate new': 7742,\n",
       " 'senate new york': 7743,\n",
       " 'judge': 4593,\n",
       " 'transgender': 8887,\n",
       " 'obsessed': 6030,\n",
       " 'lie': 4963,\n",
       " 'redflag': 7093,\n",
       " 'redflag news': 7094,\n",
       " 'diplomat': 2431,\n",
       " 'strike': 8333,\n",
       " 'assad': 510,\n",
       " 'syria': 8507,\n",
       " 'syria new': 8511,\n",
       " 'syria new york': 8512,\n",
       " 'franken': 3453,\n",
       " 'call': 1197,\n",
       " 'independent': 4293,\n",
       " 'investigation': 4399,\n",
       " 'putin': 6917,\n",
       " 'crush': 2070,\n",
       " 'investigation trump': 4411,\n",
       " 'trump putin': 9104,\n",
       " 'louisiana': 5082,\n",
       " 'simone': 7939,\n",
       " 'bile': 841,\n",
       " 'race': 6957,\n",
       " 'tuesday': 9193,\n",
       " 'evening': 2950,\n",
       " 'briefing': 1066,\n",
       " 'simone bile': 7940,\n",
       " 'presidential race': 6712,\n",
       " 'tuesday evening': 9196,\n",
       " 'evening briefing': 2951,\n",
       " 'briefing new': 1074,\n",
       " 'tuesday evening briefing': 9197,\n",
       " 'evening briefing new': 2953,\n",
       " 'briefing new york': 1075,\n",
       " 'turkey': 9206,\n",
       " 'threatens': 8738,\n",
       " 'land': 4775,\n",
       " 'passage': 6292,\n",
       " 'europe': 2936,\n",
       " 'row': 7450,\n",
       " 'dutch': 2630,\n",
       " 'huma': 4153,\n",
       " 'weiner': 9696,\n",
       " 'dog': 2511,\n",
       " 'colin': 1687,\n",
       " 'kaepernick': 4628,\n",
       " 'start': 8218,\n",
       " 'panther': 6251,\n",
       " 'inspired': 4343,\n",
       " 'youth': 9978,\n",
       " 'camp': 1213,\n",
       " 'wow': 9913,\n",
       " 'colin kaepernick': 1688,\n",
       " 'black panther': 893,\n",
       " 'immigration': 4244,\n",
       " 'policy': 6564,\n",
       " 'explained': 3019,\n",
       " 'trump immigration': 9032,\n",
       " 'immigration policy': 4251,\n",
       " 'explained new': 3020,\n",
       " 'trump immigration policy': 9034,\n",
       " 'explained new york': 3021,\n",
       " 'mary': 5254,\n",
       " 'tyler': 9233,\n",
       " 'moore': 5568,\n",
       " 'van': 9380,\n",
       " 'star': 8211,\n",
       " 'mary tyler': 5255,\n",
       " 'tyler moore': 9234,\n",
       " 'star new': 8213,\n",
       " 'mary tyler moore': 5256,\n",
       " 'star new york': 8214,\n",
       " 'poison': 6539,\n",
       " 'fan': 3113,\n",
       " 'across': 76,\n",
       " 'support': 8421,\n",
       " 'president': 6694,\n",
       " 'trump fan': 9005,\n",
       " 'president new': 6702,\n",
       " 'president new york': 6703,\n",
       " 'reporter': 7216,\n",
       " 'help': 3946,\n",
       " 'bash': 712,\n",
       " 'covering': 1999,\n",
       " 'event': 2954,\n",
       " 'worth': 9904,\n",
       " 'listen': 5013,\n",
       " 'listen new': 5014,\n",
       " 'listen new york': 5015,\n",
       " 'mike': 5433,\n",
       " 'tip': 8781,\n",
       " 'making': 5158,\n",
       " 'small': 7995,\n",
       " 'investment': 4414,\n",
       " 'strategist': 8312,\n",
       " 'forecast': 3380,\n",
       " 'collapse': 1689,\n",
       " 'timeline': 8778,\n",
       " 'last': 4795,\n",
       " 'economic': 2667,\n",
       " 'cycle': 2108,\n",
       " 'come': 1718,\n",
       " 'venezuela': 9391,\n",
       " 'legislature': 4920,\n",
       " 'moving': 5607,\n",
       " 'closer': 1649,\n",
       " 'one': 6107,\n",
       " 'man': 5174,\n",
       " 'rule': 7460,\n",
       " 'one man': 6110,\n",
       " 'rule new': 7463,\n",
       " 'rule new york': 7464,\n",
       " 'whether': 9719,\n",
       " 'john': 4554,\n",
       " 'mccain': 5299,\n",
       " 'mitt': 5519,\n",
       " 'romney': 7433,\n",
       " 'always': 291,\n",
       " 'run': 7466,\n",
       " 'war': 9588,\n",
       " 'tactic': 8536,\n",
       " 'destroy': 2374,\n",
       " 'republican': 7221,\n",
       " 'candidate': 1246,\n",
       " 'john mccain': 4558,\n",
       " 'mitt romney': 5520,\n",
       " 'trump democrat': 8990,\n",
       " 'boom': 976,\n",
       " 'breitbart news': 1050,\n",
       " 'news daily': 5834,\n",
       " 'daily trump': 2121,\n",
       " 'breitbart news daily': 1051,\n",
       " 'news daily trump': 5835,\n",
       " 'white': 9724,\n",
       " 'confirms': 1837,\n",
       " 'transfer': 8885,\n",
       " 'leaf': 4852,\n",
       " 'office': 6063,\n",
       " 'white house': 9725,\n",
       " 'poll': 6577,\n",
       " 'voter': 9527,\n",
       " 'democratic': 2310,\n",
       " 'confront': 1843,\n",
       " 'judgment': 4597,\n",
       " 'old': 6090,\n",
       " 'deportation': 2342,\n",
       " 'day old': 2177,\n",
       " 'order new': 6157,\n",
       " 'order new york': 6158,\n",
       " 'yale': 9935,\n",
       " 'sued': 8389,\n",
       " 'retirement': 7284,\n",
       " 'fee': 3197,\n",
       " 'fee new': 3198,\n",
       " 'fee new york': 3199,\n",
       " 'reason': 7064,\n",
       " 'want': 9576,\n",
       " 'control': 1911,\n",
       " 'internet': 4371,\n",
       " 'real reason': 7056,\n",
       " 'gas': 3562,\n",
       " 'build': 1133,\n",
       " 'trump new': 9078,\n",
       " 'donald trump new': 2528,\n",
       " 'trump new york': 9080,\n",
       " 'catch': 1322,\n",
       " 'sick': 7910,\n",
       " 'interview': 4375,\n",
       " 'priceless': 6730,\n",
       " 'response': 7255,\n",
       " 'senator': 7746,\n",
       " 'russian government': 7505,\n",
       " 'perfectly': 6389,\n",
       " 'struggle': 8341,\n",
       " 'washington': 9633,\n",
       " 'take': 8539,\n",
       " 'refugee': 7105,\n",
       " 'muslim': 5646,\n",
       " 'country': 1974,\n",
       " 'washington state': 9638,\n",
       " 'take refugee': 8543,\n",
       " 'muslim breitbart': 5647,\n",
       " 'ncaa': 5722,\n",
       " 'keep': 4648,\n",
       " 'eye': 3055,\n",
       " 'bill': 842,\n",
       " 'bathroom bill': 721,\n",
       " 'bill breitbart': 843,\n",
       " 'espn': 2916,\n",
       " 'financial': 3255,\n",
       " 'subscriber': 8369,\n",
       " 'loss': 5074,\n",
       " 'drag': 2575,\n",
       " 'disney': 2469,\n",
       " 'first': 3278,\n",
       " 'quarter': 6927,\n",
       " 'sale': 7534,\n",
       " 'megyn': 5346,\n",
       " 'kelly': 4655,\n",
       " 'contract': 1903,\n",
       " 'next': 5849,\n",
       " 'year': 9938,\n",
       " 'megyn kelly': 5347,\n",
       " 'next year': 5856,\n",
       " 'show new': 7894,\n",
       " 'show new york': 7895,\n",
       " 'teacher': 8587,\n",
       " 'suspended': 8486,\n",
       " 'allowing': 267,\n",
       " 'student': 8344,\n",
       " 'hit': 4048,\n",
       " 'de': 2185,\n",
       " 'breaking': 1036,\n",
       " 'concern': 1814,\n",
       " 'anthony': 395,\n",
       " 'illegal': 4214,\n",
       " 'classified': 1544,\n",
       " 'info': 4312,\n",
       " 'month': 5557,\n",
       " 'ago': 180,\n",
       " 'truthfeed': 9181,\n",
       " 'breaking trump': 1043,\n",
       " 'anthony weiner': 396,\n",
       " 'classified info': 1546,\n",
       " 'snap': 8014,\n",
       " 'share': 7826,\n",
       " 'debut': 2228,\n",
       " 'investor': 4415,\n",
       " 'doubt': 2559,\n",
       " 'value': 9377,\n",
       " 'vanish': 9383,\n",
       " 'chair': 1364,\n",
       " 'dinner': 2428,\n",
       " 'top': 8819,\n",
       " 'doj': 2513,\n",
       " 'benghazi': 793,\n",
       " 'hearing': 3925,\n",
       " 'campaign chair': 1220,\n",
       " 'one day': 6109,\n",
       " 'clinton campaign chair': 1578,\n",
       " 'series': 7768,\n",
       " 'female': 3213,\n",
       " 'mlb': 5522,\n",
       " 'low': 5092,\n",
       " 'season': 7672,\n",
       " 'tv series': 9218,\n",
       " 'first female': 3284,\n",
       " 'seeking': 7715,\n",
       " 'fit': 3297,\n",
       " 'final': 3248,\n",
       " 'four': 3432,\n",
       " 'return': 7290,\n",
       " 'friday': 3484,\n",
       " 'sunday': 8412,\n",
       " 'final four': 3249,\n",
       " 'proposal': 6816,\n",
       " 'canadian': 1236,\n",
       " 'national': 5696,\n",
       " 'bird': 869,\n",
       " 'national bird': 5698,\n",
       " 'beyonc': 825,\n",
       " 'strife': 8332,\n",
       " 'ask': 502,\n",
       " 'sharp': 7832,\n",
       " 'increase': 4285,\n",
       " 'spending': 8127,\n",
       " 'military spending': 5450,\n",
       " 'official say': 6074,\n",
       " 'say new': 7582,\n",
       " 'increase military spending': 4286,\n",
       " 'official say new': 6075,\n",
       " 'say new york': 7583,\n",
       " 'watergate': 9653,\n",
       " 'smoking': 8009,\n",
       " 'discus': 2460,\n",
       " 'cleaning': 1551,\n",
       " 'smoking gun': 8010,\n",
       " 'obama hillary': 5988,\n",
       " 'hillary email': 4006,\n",
       " 'chapo': 1393,\n",
       " 'trap': 8894,\n",
       " 'wing': 9815,\n",
       " 'podcast': 6521,\n",
       " 'rip': 7371,\n",
       " 'stuff': 8354,\n",
       " 'house new': 4130,\n",
       " 'left wing': 4904,\n",
       " 'taiwan': 8537,\n",
       " 'responds': 7254,\n",
       " 'china': 1460,\n",
       " 'sends': 7749,\n",
       " 'carrier': 1298,\n",
       " 'mother': 5589,\n",
       " 'october': 6048,\n",
       " 'surprise': 8454,\n",
       " 'card': 1274,\n",
       " 'october surprise': 6052,\n",
       " 'explosive': 3030,\n",
       " 'assange': 513,\n",
       " 'pilger': 6443,\n",
       " 'expect': 3007,\n",
       " 'riot': 7369,\n",
       " 'hillary win': 4029,\n",
       " 'ate': 543,\n",
       " 'track': 8849,\n",
       " 'surpass': 8453,\n",
       " 'closed': 1648,\n",
       " 'afghan': 145,\n",
       " 'pakistani': 6232,\n",
       " 'border': 980,\n",
       " 'becoming': 751,\n",
       " 'humanitarian': 4162,\n",
       " 'crisis': 2041,\n",
       " 'crisis new': 2043,\n",
       " 'crisis new york': 2044,\n",
       " 'anchor': 358,\n",
       " 'arrive': 485,\n",
       " 'lunch': 5106,\n",
       " 'trump breitbart': 8972,\n",
       " 'donald trump breitbart': 2519,\n",
       " 'pelosi': 6355,\n",
       " 'tell': 8610,\n",
       " 'bringing': 1082,\n",
       " 'tell trump': 8613,\n",
       " 'presidency breitbart': 6692,\n",
       " 'beautiful': 745,\n",
       " 'earth': 2648,\n",
       " 'ignored': 4208,\n",
       " 'learned': 4876,\n",
       " 'trump news': 9081,\n",
       " 'family': 3108,\n",
       " 'bid': 831,\n",
       " 'vote': 9507,\n",
       " 'plan family': 6482,\n",
       " 'vote new': 9516,\n",
       " 'vote new york': 9517,\n",
       " 'montana': 5556,\n",
       " 'banning': 692,\n",
       " 'sharia': 7828,\n",
       " 'law': 4825,\n",
       " 'sharia law': 7829,\n",
       " 'go': 3651,\n",
       " 'happens': 3855,\n",
       " 'literally': 5020,\n",
       " 'hurt': 4181,\n",
       " 'brain': 1014,\n",
       " 'read': 7038,\n",
       " 'libertarian': 4950,\n",
       " 'secretary': 7692,\n",
       " 'mass': 5261,\n",
       " 'rejected': 7142,\n",
       " 'globalism': 3637,\n",
       " 'nationalism': 5703,\n",
       " 'secretary general': 7693,\n",
       " 'ad': 94,\n",
       " 'meant': 5313,\n",
       " 'indian': 4296,\n",
       " 'hilarious': 3982,\n",
       " 'fail': 3079,\n",
       " 'previously': 6725,\n",
       " 'laptop': 4782,\n",
       " 'fbi find': 3163,\n",
       " 'email weiner': 2804,\n",
       " 'weiner laptop': 9697,\n",
       " 'journalist': 4586,\n",
       " 'theory': 8690,\n",
       " 'proven': 6855,\n",
       " 'fact': 3071,\n",
       " 'american journalist': 337,\n",
       " 'conspiracy theory': 1876,\n",
       " 'report': 7196,\n",
       " 'alien': 248,\n",
       " 'food': 3364,\n",
       " 'stamp': 8188,\n",
       " 'stay': 8247,\n",
       " 'radar': 6968,\n",
       " 'illegal alien': 4215,\n",
       " 'food stamp': 3366,\n",
       " 'great': 3748,\n",
       " 'worldwide': 9895,\n",
       " 'injured': 4326,\n",
       " 'jerusalem': 4516,\n",
       " 'truck': 8946,\n",
       " 'terror': 8638,\n",
       " 'jerusalem truck': 4519,\n",
       " 'terror attack': 8639,\n",
       " 'salute': 7539,\n",
       " 'comrade': 1805,\n",
       " 'newt': 5847,\n",
       " 'brutal': 1122,\n",
       " 'sic': 7907,\n",
       " 'play': 6497,\n",
       " 'game': 3542,\n",
       " 'megyn sic': 5348,\n",
       " 'sic kelly': 7908,\n",
       " 'megyn sic kelly': 5349,\n",
       " 'college': 1697,\n",
       " 'got': 3709,\n",
       " 'beaten': 743,\n",
       " 'protesting': 6852,\n",
       " 'kkk': 4705,\n",
       " 'david': 2164,\n",
       " 'duke': 2620,\n",
       " 'david duke': 2165,\n",
       " 'despite': 2370,\n",
       " 'strict': 8328,\n",
       " 'child': 1446,\n",
       " 'shot': 7886,\n",
       " 'every': 2959,\n",
       " 'strict gun': 8329,\n",
       " 'gun control': 3805,\n",
       " 'every day': 2961,\n",
       " 'strict gun control': 8330,\n",
       " 'bully': 1142,\n",
       " 'newly': 5830,\n",
       " 'fear': 3175,\n",
       " 'drain': 2577,\n",
       " 'culture': 2083,\n",
       " 'fear trump': 3178,\n",
       " 'culture new': 2084,\n",
       " 'culture new york': 2085,\n",
       " 'fed': 3185,\n",
       " 'hold': 4060,\n",
       " 'interest': 4359,\n",
       " 'rate': 7022,\n",
       " 'steady': 8248,\n",
       " 'interest rate': 4362,\n",
       " 'increase new': 4287,\n",
       " 'increase new york': 4288,\n",
       " 'battle': 725,\n",
       " 'unesco': 9282,\n",
       " 'latest': 4813,\n",
       " 'test': 8655,\n",
       " 'pulling': 6895,\n",
       " 'easter': 2659,\n",
       " 'egg': 2698,\n",
       " 'roll': 7424,\n",
       " 'investigated': 4395,\n",
       " 'service': 7776,\n",
       " 'assassination': 519,\n",
       " 'tweet': 9220,\n",
       " 'secret service': 7689,\n",
       " 'tweet breitbart': 9221,\n",
       " 'haiti': 3825,\n",
       " 'cuomo': 2089,\n",
       " 'christie': 1488,\n",
       " 'parallel': 6263,\n",
       " 'path': 6303,\n",
       " 'trouble': 8941,\n",
       " 'place': 6469,\n",
       " 'allowed': 266,\n",
       " 'visit': 9486,\n",
       " 'weight': 9694,\n",
       " 'gain': 3535,\n",
       " 'worse': 9900,\n",
       " 'new study': 5808,\n",
       " 'james': 4482,\n",
       " 'mattis': 5287,\n",
       " 'james mattis': 4485,\n",
       " 'burned': 1151,\n",
       " 'spray': 8159,\n",
       " 'black church': 886,\n",
       " 'vote trump': 9519,\n",
       " 'sears': 7671,\n",
       " 'agrees': 186,\n",
       " 'sell': 7730,\n",
       " 'amp': 351,\n",
       " 'raise': 6984,\n",
       " 'cash': 1313,\n",
       " 'takata': 8538,\n",
       " 'executive': 2991,\n",
       " 'resign': 7240,\n",
       " 'mount': 5594,\n",
       " 'chief executive': 1440,\n",
       " 'goodbye': 3691,\n",
       " 'good': 3688,\n",
       " 'teen': 8601,\n",
       " 'gang': 3552,\n",
       " 'busted': 1163,\n",
       " 'armed': 472,\n",
       " 'robbery': 7388,\n",
       " 'another': 388,\n",
       " 'virginia': 9476,\n",
       " 'palestinian': 6235,\n",
       " 'charged': 1399,\n",
       " 'terrorism': 8641,\n",
       " 'american muslim': 339,\n",
       " 'obamacare': 6007,\n",
       " 'replacement': 7190,\n",
       " 'nobody': 5879,\n",
       " 'financially': 3257,\n",
       " 'obamacare replacement': 6018,\n",
       " 'va': 9368,\n",
       " 'fails': 3082,\n",
       " 'examine': 2973,\n",
       " 'thousand': 8725,\n",
       " 'veteran': 9406,\n",
       " 'already': 279,\n",
       " 'secrecy': 7685,\n",
       " 'moon': 5564,\n",
       " 'landing': 4776,\n",
       " 'soon': 8063,\n",
       " 'trump family': 9004,\n",
       " 'sport': 8150,\n",
       " 'writer': 9918,\n",
       " 'nfl': 5857,\n",
       " 'jim': 4538,\n",
       " 'brown': 1120,\n",
       " 'decade': 2229,\n",
       " 'work': 9857,\n",
       " 'erased': 2901,\n",
       " 'saying': 7594,\n",
       " 'nice': 5858,\n",
       " 'thing': 8699,\n",
       " 'sport writer': 8155,\n",
       " 'watch': 9640,\n",
       " 'excuse': 2985,\n",
       " 'skipping': 7972,\n",
       " 'convention': 1919,\n",
       " 'convention new': 1920,\n",
       " 'convention new york': 1921,\n",
       " 'told': 8801,\n",
       " 'open letter': 6129,\n",
       " 'trump voter': 9152,\n",
       " 'comment': 1751,\n",
       " 'powerful': 6647,\n",
       " 'lobby': 5035,\n",
       " 'quietly': 6948,\n",
       " 'backing': 647,\n",
       " 'talking': 8555,\n",
       " 'quietly backing': 6949,\n",
       " 'end': 2836,\n",
       " 'libyan': 4961,\n",
       " 'girl': 3624,\n",
       " 'genius': 3589,\n",
       " 'scientist': 7635,\n",
       " 'fossil': 3416,\n",
       " 'may': 5291,\n",
       " 'oldest': 6095,\n",
       " 'scientist say': 7637,\n",
       " 'pro': 6762,\n",
       " 'advance': 121,\n",
       " 'amid': 346,\n",
       " 'talk': 8552,\n",
       " 'cancer': 1241,\n",
       " 'agency': 163,\n",
       " 'fire': 3270,\n",
       " 'carcinogenic': 1271,\n",
       " 'glyphosate': 3647,\n",
       " 'document': 2506,\n",
       " ...}"
      ]
     },
     "execution_count": 264,
     "metadata": {},
     "output_type": "execute_result"
    }
   ],
   "source": [
    "cv.vocabulary_"
   ]
  },
  {
   "cell_type": "code",
   "execution_count": 265,
   "id": "c3d8a8f2",
   "metadata": {},
   "outputs": [
    {
     "data": {
      "text/plain": [
       "{'analyzer': 'word',\n",
       " 'binary': False,\n",
       " 'decode_error': 'strict',\n",
       " 'dtype': numpy.int64,\n",
       " 'encoding': 'utf-8',\n",
       " 'input': 'content',\n",
       " 'lowercase': True,\n",
       " 'max_df': 1.0,\n",
       " 'max_features': 10000,\n",
       " 'min_df': 1,\n",
       " 'ngram_range': (1, 3),\n",
       " 'preprocessor': None,\n",
       " 'stop_words': None,\n",
       " 'strip_accents': None,\n",
       " 'token_pattern': '(?u)\\\\b\\\\w\\\\w+\\\\b',\n",
       " 'tokenizer': None,\n",
       " 'vocabulary': None}"
      ]
     },
     "execution_count": 265,
     "metadata": {},
     "output_type": "execute_result"
    }
   ],
   "source": [
    "cv.get_params()"
   ]
  },
  {
   "cell_type": "code",
   "execution_count": 266,
   "id": "b7d504bc",
   "metadata": {},
   "outputs": [],
   "source": [
    "X=pd.DataFrame(X,columns=cv.get_feature_names())"
   ]
  },
  {
   "cell_type": "code",
   "execution_count": 267,
   "id": "31e927a7",
   "metadata": {},
   "outputs": [
    {
     "data": {
      "text/html": [
       "<div>\n",
       "<style scoped>\n",
       "    .dataframe tbody tr th:only-of-type {\n",
       "        vertical-align: middle;\n",
       "    }\n",
       "\n",
       "    .dataframe tbody tr th {\n",
       "        vertical-align: top;\n",
       "    }\n",
       "\n",
       "    .dataframe thead th {\n",
       "        text-align: right;\n",
       "    }\n",
       "</style>\n",
       "<table border=\"1\" class=\"dataframe\">\n",
       "  <thead>\n",
       "    <tr style=\"text-align: right;\">\n",
       "      <th></th>\n",
       "      <th>aaron</th>\n",
       "      <th>ab</th>\n",
       "      <th>abandon</th>\n",
       "      <th>abandoned</th>\n",
       "      <th>abbas</th>\n",
       "      <th>abc</th>\n",
       "      <th>abc news</th>\n",
       "      <th>abduction</th>\n",
       "      <th>abduction ring</th>\n",
       "      <th>abduction ring exposed</th>\n",
       "      <th>...</th>\n",
       "      <th>zombie</th>\n",
       "      <th>zone</th>\n",
       "      <th>zone breitbart</th>\n",
       "      <th>zone declared</th>\n",
       "      <th>zone declared militarized</th>\n",
       "      <th>zone new</th>\n",
       "      <th>zone new york</th>\n",
       "      <th>zoo</th>\n",
       "      <th>zu</th>\n",
       "      <th>zuckerberg</th>\n",
       "    </tr>\n",
       "  </thead>\n",
       "  <tbody>\n",
       "    <tr>\n",
       "      <th>0</th>\n",
       "      <td>0</td>\n",
       "      <td>0</td>\n",
       "      <td>0</td>\n",
       "      <td>0</td>\n",
       "      <td>0</td>\n",
       "      <td>0</td>\n",
       "      <td>0</td>\n",
       "      <td>0</td>\n",
       "      <td>0</td>\n",
       "      <td>0</td>\n",
       "      <td>...</td>\n",
       "      <td>0</td>\n",
       "      <td>0</td>\n",
       "      <td>0</td>\n",
       "      <td>0</td>\n",
       "      <td>0</td>\n",
       "      <td>0</td>\n",
       "      <td>0</td>\n",
       "      <td>0</td>\n",
       "      <td>0</td>\n",
       "      <td>0</td>\n",
       "    </tr>\n",
       "    <tr>\n",
       "      <th>1</th>\n",
       "      <td>0</td>\n",
       "      <td>0</td>\n",
       "      <td>0</td>\n",
       "      <td>0</td>\n",
       "      <td>0</td>\n",
       "      <td>0</td>\n",
       "      <td>0</td>\n",
       "      <td>0</td>\n",
       "      <td>0</td>\n",
       "      <td>0</td>\n",
       "      <td>...</td>\n",
       "      <td>0</td>\n",
       "      <td>0</td>\n",
       "      <td>0</td>\n",
       "      <td>0</td>\n",
       "      <td>0</td>\n",
       "      <td>0</td>\n",
       "      <td>0</td>\n",
       "      <td>0</td>\n",
       "      <td>0</td>\n",
       "      <td>0</td>\n",
       "    </tr>\n",
       "    <tr>\n",
       "      <th>2</th>\n",
       "      <td>0</td>\n",
       "      <td>0</td>\n",
       "      <td>0</td>\n",
       "      <td>0</td>\n",
       "      <td>0</td>\n",
       "      <td>0</td>\n",
       "      <td>0</td>\n",
       "      <td>0</td>\n",
       "      <td>0</td>\n",
       "      <td>0</td>\n",
       "      <td>...</td>\n",
       "      <td>0</td>\n",
       "      <td>0</td>\n",
       "      <td>0</td>\n",
       "      <td>0</td>\n",
       "      <td>0</td>\n",
       "      <td>0</td>\n",
       "      <td>0</td>\n",
       "      <td>0</td>\n",
       "      <td>0</td>\n",
       "      <td>0</td>\n",
       "    </tr>\n",
       "    <tr>\n",
       "      <th>3</th>\n",
       "      <td>0</td>\n",
       "      <td>0</td>\n",
       "      <td>0</td>\n",
       "      <td>0</td>\n",
       "      <td>0</td>\n",
       "      <td>0</td>\n",
       "      <td>0</td>\n",
       "      <td>0</td>\n",
       "      <td>0</td>\n",
       "      <td>0</td>\n",
       "      <td>...</td>\n",
       "      <td>0</td>\n",
       "      <td>0</td>\n",
       "      <td>0</td>\n",
       "      <td>0</td>\n",
       "      <td>0</td>\n",
       "      <td>0</td>\n",
       "      <td>0</td>\n",
       "      <td>0</td>\n",
       "      <td>0</td>\n",
       "      <td>0</td>\n",
       "    </tr>\n",
       "    <tr>\n",
       "      <th>4</th>\n",
       "      <td>0</td>\n",
       "      <td>0</td>\n",
       "      <td>0</td>\n",
       "      <td>0</td>\n",
       "      <td>0</td>\n",
       "      <td>0</td>\n",
       "      <td>0</td>\n",
       "      <td>0</td>\n",
       "      <td>0</td>\n",
       "      <td>0</td>\n",
       "      <td>...</td>\n",
       "      <td>0</td>\n",
       "      <td>0</td>\n",
       "      <td>0</td>\n",
       "      <td>0</td>\n",
       "      <td>0</td>\n",
       "      <td>0</td>\n",
       "      <td>0</td>\n",
       "      <td>0</td>\n",
       "      <td>0</td>\n",
       "      <td>0</td>\n",
       "    </tr>\n",
       "  </tbody>\n",
       "</table>\n",
       "<p>5 rows × 10000 columns</p>\n",
       "</div>"
      ],
      "text/plain": [
       "   aaron  ab  abandon  abandoned  abbas  abc  abc news  abduction  \\\n",
       "0      0   0        0          0      0    0         0          0   \n",
       "1      0   0        0          0      0    0         0          0   \n",
       "2      0   0        0          0      0    0         0          0   \n",
       "3      0   0        0          0      0    0         0          0   \n",
       "4      0   0        0          0      0    0         0          0   \n",
       "\n",
       "   abduction ring  abduction ring exposed  ...  zombie  zone  zone breitbart  \\\n",
       "0               0                       0  ...       0     0               0   \n",
       "1               0                       0  ...       0     0               0   \n",
       "2               0                       0  ...       0     0               0   \n",
       "3               0                       0  ...       0     0               0   \n",
       "4               0                       0  ...       0     0               0   \n",
       "\n",
       "   zone declared  zone declared militarized  zone new  zone new york  zoo  zu  \\\n",
       "0              0                          0         0              0    0   0   \n",
       "1              0                          0         0              0    0   0   \n",
       "2              0                          0         0              0    0   0   \n",
       "3              0                          0         0              0    0   0   \n",
       "4              0                          0         0              0    0   0   \n",
       "\n",
       "   zuckerberg  \n",
       "0           0  \n",
       "1           0  \n",
       "2           0  \n",
       "3           0  \n",
       "4           0  \n",
       "\n",
       "[5 rows x 10000 columns]"
      ]
     },
     "execution_count": 267,
     "metadata": {},
     "output_type": "execute_result"
    }
   ],
   "source": [
    "X.head()"
   ]
  },
  {
   "cell_type": "code",
   "execution_count": 268,
   "id": "0bf7a52e",
   "metadata": {},
   "outputs": [
    {
     "data": {
      "text/plain": [
       "(18285, 10000)"
      ]
     },
     "execution_count": 268,
     "metadata": {},
     "output_type": "execute_result"
    }
   ],
   "source": [
    "X.shape"
   ]
  },
  {
   "cell_type": "code",
   "execution_count": 269,
   "id": "c4c8a574",
   "metadata": {},
   "outputs": [],
   "source": [
    "from sklearn.model_selection import train_test_split"
   ]
  },
  {
   "cell_type": "code",
   "execution_count": 270,
   "id": "4ad8b2a8",
   "metadata": {},
   "outputs": [],
   "source": [
    "x_train,x_test,y_train,y_test=train_test_split(X,y,test_size=0.2,random_state=10)"
   ]
  },
  {
   "cell_type": "code",
   "execution_count": 271,
   "id": "66d80615",
   "metadata": {},
   "outputs": [],
   "source": [
    "import matplotlib.pyplot as plt"
   ]
  },
  {
   "cell_type": "code",
   "execution_count": 272,
   "id": "e7bbc371",
   "metadata": {},
   "outputs": [],
   "source": [
    "from sklearn.naive_bayes import MultinomialNB"
   ]
  },
  {
   "cell_type": "code",
   "execution_count": 273,
   "id": "9a34fd26",
   "metadata": {},
   "outputs": [],
   "source": [
    "nb=MultinomialNB()"
   ]
  },
  {
   "cell_type": "code",
   "execution_count": 274,
   "id": "ee2d0313",
   "metadata": {},
   "outputs": [],
   "source": [
    "nbmodel=nb.fit(x_train,y_train)"
   ]
  },
  {
   "cell_type": "code",
   "execution_count": 275,
   "id": "04eeec5a",
   "metadata": {},
   "outputs": [],
   "source": [
    "pred=nbmodel.predict(x_test)"
   ]
  },
  {
   "cell_type": "code",
   "execution_count": 276,
   "id": "4d2d2f20",
   "metadata": {},
   "outputs": [],
   "source": [
    "from sklearn.metrics import confusion_matrix, classification_report, accuracy_score, plot_confusion_matrix"
   ]
  },
  {
   "cell_type": "code",
   "execution_count": 277,
   "id": "af60424a",
   "metadata": {},
   "outputs": [
    {
     "data": {
      "text/plain": [
       "0.9105824446267432"
      ]
     },
     "execution_count": 277,
     "metadata": {},
     "output_type": "execute_result"
    }
   ],
   "source": [
    "accuracy_score(y_test,pred)"
   ]
  },
  {
   "cell_type": "code",
   "execution_count": 278,
   "id": "2bcd2145",
   "metadata": {},
   "outputs": [
    {
     "data": {
      "text/plain": [
       "array([[1904,  146],\n",
       "       [ 181, 1426]], dtype=int64)"
      ]
     },
     "execution_count": 278,
     "metadata": {},
     "output_type": "execute_result"
    }
   ],
   "source": [
    "confusion_matrix(y_test,pred)"
   ]
  },
  {
   "cell_type": "code",
   "execution_count": 279,
   "id": "2bcace82",
   "metadata": {},
   "outputs": [
    {
     "data": {
      "text/plain": [
       "<sklearn.metrics._plot.confusion_matrix.ConfusionMatrixDisplay at 0x141b21cb460>"
      ]
     },
     "execution_count": 279,
     "metadata": {},
     "output_type": "execute_result"
    },
    {
     "data": {
      "image/png": "[encoded data removed]",
      "text/plain": [
       "<Figure size 432x288 with 2 Axes>"
      ]
     },
     "metadata": {
      "needs_background": "light"
     },
     "output_type": "display_data"
    }
   ],
   "source": [
    "plot_confusion_matrix(nb,x_test,y_test,display_labels=['FAKE','REAL'])"
   ]
  },
  {
   "cell_type": "code",
   "execution_count": 280,
   "id": "92a734c8",
   "metadata": {},
   "outputs": [],
   "source": [
    "from sklearn.linear_model import PassiveAggressiveClassifier"
   ]
  },
  {
   "cell_type": "code",
   "execution_count": 281,
   "id": "08168fd1",
   "metadata": {},
   "outputs": [],
   "source": [
    "PAC=PassiveAggressiveClassifier()"
   ]
  },
  {
   "cell_type": "code",
   "execution_count": 282,
   "id": "692af99d",
   "metadata": {},
   "outputs": [],
   "source": [
    "pacmodel=PAC.fit(x_train,y_train)"
   ]
  },
  {
   "cell_type": "code",
   "execution_count": 283,
   "id": "b6f9da86",
   "metadata": {},
   "outputs": [],
   "source": [
    "pacpred=pacmodel.predict(x_test)"
   ]
  },
  {
   "cell_type": "code",
   "execution_count": 284,
   "id": "e87236b6",
   "metadata": {},
   "outputs": [
    {
     "name": "stdout",
     "output_type": "stream",
     "text": [
      "Accuracy: 0.911\n"
     ]
    }
   ],
   "source": [
    "print('Accuracy: %0.3f' %accuracy_score(pred,y_test))"
   ]
  },
  {
   "cell_type": "code",
   "execution_count": 285,
   "id": "3e30fe6f",
   "metadata": {},
   "outputs": [
    {
     "data": {
      "text/plain": [
       "<sklearn.metrics._plot.confusion_matrix.ConfusionMatrixDisplay at 0x142964ea820>"
      ]
     },
     "execution_count": 285,
     "metadata": {},
     "output_type": "execute_result"
    },
    {
     "data": {
      "image/png": "[encoded data removed]",
      "text/plain": [
       "<Figure size 432x288 with 2 Axes>"
      ]
     },
     "metadata": {
      "needs_background": "light"
     },
     "output_type": "display_data"
    }
   ],
   "source": [
    "plot_confusion_matrix(PAC,x_test,y_test,display_labels=['FAKE','REAL'])"
   ]
  },
  {
   "cell_type": "code",
   "execution_count": 286,
   "id": "83303698",
   "metadata": {},
   "outputs": [],
   "source": [
    "# MultinomialNB with Hyper parameter tuning\n",
    "import numpy as np"
   ]
  },
  {
   "cell_type": "code",
   "execution_count": 287,
   "id": "48c372c1",
   "metadata": {},
   "outputs": [],
   "source": [
    "classifier=MultinomialNB(alpha=0.1)"
   ]
  },
  {
   "cell_type": "code",
   "execution_count": 288,
   "id": "0dcadb07",
   "metadata": {},
   "outputs": [
    {
     "name": "stderr",
     "output_type": "stream",
     "text": [
      "C:\\Users\\INTEL\\anaconda3\\lib\\site-packages\\sklearn\\naive_bayes.py:508: UserWarning: alpha too small will result in numeric errors, setting alpha = 1.0e-10\n",
      "  warnings.warn('alpha too small will result in numeric errors, '\n"
     ]
    },
    {
     "name": "stdout",
     "output_type": "stream",
     "text": [
      "Alpha: 0.0, Score: 0.883237626469784\n",
      "Alpha: 0.1, Score: 0.9056603773584906\n",
      "Alpha: 0.2, Score: 0.9086683073557561\n",
      "Alpha: 0.30000000000000004, Score: 0.9089417555373257\n",
      "Alpha: 0.4, Score: 0.9097621000820345\n",
      "Alpha: 0.5, Score: 0.9105824446267432\n",
      "Alpha: 0.6000000000000001, Score: 0.9108558928083128\n"
     ]
    }
   ],
   "source": [
    "previous_score=0\n",
    "for i in np.arange(0,1,0.1):\n",
    "    subclassifier=MultinomialNB(alpha=i)\n",
    "    subclassifier.fit(x_train,y_train)\n",
    "    y_pred=subclassifier.predict(x_test)\n",
    "    score=accuracy_score(y_test,y_pred)\n",
    "    if score>previous_score:\n",
    "        classifier=subclassifier\n",
    "        previous_score=score\n",
    "        print('Alpha: {}, Score: {}'.format(i,score))"
   ]
  },
  {
   "cell_type": "code",
   "execution_count": 289,
   "id": "4af70a10",
   "metadata": {},
   "outputs": [],
   "source": [
    "## Get feature names\n",
    "feature_names=cv.get_feature_names()"
   ]
  },
  {
   "cell_type": "code",
   "execution_count": 290,
   "id": "544bcc61",
   "metadata": {},
   "outputs": [
    {
     "name": "stderr",
     "output_type": "stream",
     "text": [
      "C:\\Users\\INTEL\\anaconda3\\lib\\site-packages\\sklearn\\utils\\deprecation.py:101: FutureWarning: Attribute coef_ was deprecated in version 0.24 and will be removed in 1.1 (renaming of 0.26).\n",
      "  warnings.warn(msg, category=FutureWarning)\n"
     ]
    },
    {
     "data": {
      "text/plain": [
       "array([-11.47269357, -10.00635651, -10.49186432, ..., -11.47269357,\n",
       "        -9.23910135,  -9.6809341 ])"
      ]
     },
     "execution_count": 290,
     "metadata": {},
     "output_type": "execute_result"
    }
   ],
   "source": [
    "classifier.coef_[0] ## the lower the value the Fake is word, the more positive cofficient the more Real is word"
   ]
  },
  {
   "cell_type": "code",
   "execution_count": 291,
   "id": "0dc88b81",
   "metadata": {},
   "outputs": [
    {
     "data": {
      "text/html": [
       "<div>\n",
       "<style scoped>\n",
       "    .dataframe tbody tr th:only-of-type {\n",
       "        vertical-align: middle;\n",
       "    }\n",
       "\n",
       "    .dataframe tbody tr th {\n",
       "        vertical-align: top;\n",
       "    }\n",
       "\n",
       "    .dataframe thead th {\n",
       "        text-align: right;\n",
       "    }\n",
       "</style>\n",
       "<table border=\"1\" class=\"dataframe\">\n",
       "  <thead>\n",
       "    <tr style=\"text-align: right;\">\n",
       "      <th></th>\n",
       "      <th>0</th>\n",
       "    </tr>\n",
       "  </thead>\n",
       "  <tbody>\n",
       "    <tr>\n",
       "      <th>trump</th>\n",
       "      <td>-4.094310</td>\n",
       "    </tr>\n",
       "    <tr>\n",
       "      <th>hillary</th>\n",
       "      <td>-4.394352</td>\n",
       "    </tr>\n",
       "    <tr>\n",
       "      <th>clinton</th>\n",
       "      <td>-4.474793</td>\n",
       "    </tr>\n",
       "    <tr>\n",
       "      <th>election</th>\n",
       "      <td>-5.074099</td>\n",
       "    </tr>\n",
       "    <tr>\n",
       "      <th>new</th>\n",
       "      <td>-5.321380</td>\n",
       "    </tr>\n",
       "    <tr>\n",
       "      <th>video</th>\n",
       "      <td>-5.442008</td>\n",
       "    </tr>\n",
       "    <tr>\n",
       "      <th>comment</th>\n",
       "      <td>-5.450053</td>\n",
       "    </tr>\n",
       "    <tr>\n",
       "      <th>war</th>\n",
       "      <td>-5.495497</td>\n",
       "    </tr>\n",
       "    <tr>\n",
       "      <th>fbi</th>\n",
       "      <td>-5.525529</td>\n",
       "    </tr>\n",
       "    <tr>\n",
       "      <th>hillary clinton</th>\n",
       "      <td>-5.534278</td>\n",
       "    </tr>\n",
       "  </tbody>\n",
       "</table>\n",
       "</div>"
      ],
      "text/plain": [
       "                        0\n",
       "trump           -4.094310\n",
       "hillary         -4.394352\n",
       "clinton         -4.474793\n",
       "election        -5.074099\n",
       "new             -5.321380\n",
       "video           -5.442008\n",
       "comment         -5.450053\n",
       "war             -5.495497\n",
       "fbi             -5.525529\n",
       "hillary clinton -5.534278"
      ]
     },
     "execution_count": 291,
     "metadata": {},
     "output_type": "execute_result"
    }
   ],
   "source": [
    "## Most real \n",
    "pd.DataFrame(classifier.coef_[0],index=feature_names).sort_values(ascending=False,by=0).head(10)"
   ]
  },
  {
   "cell_type": "code",
   "execution_count": 292,
   "id": "577f1138",
   "metadata": {},
   "outputs": [
    {
     "name": "stderr",
     "output_type": "stream",
     "text": [
      "C:\\Users\\INTEL\\anaconda3\\lib\\site-packages\\sklearn\\utils\\deprecation.py:101: FutureWarning: Attribute coef_ was deprecated in version 0.24 and will be removed in 1.1 (renaming of 0.26).\n",
      "  warnings.warn(msg, category=FutureWarning)\n"
     ]
    },
    {
     "data": {
      "text/html": [
       "<div>\n",
       "<style scoped>\n",
       "    .dataframe tbody tr th:only-of-type {\n",
       "        vertical-align: middle;\n",
       "    }\n",
       "\n",
       "    .dataframe tbody tr th {\n",
       "        vertical-align: top;\n",
       "    }\n",
       "\n",
       "    .dataframe thead th {\n",
       "        text-align: right;\n",
       "    }\n",
       "</style>\n",
       "<table border=\"1\" class=\"dataframe\">\n",
       "  <thead>\n",
       "    <tr style=\"text-align: right;\">\n",
       "      <th></th>\n",
       "      <th>0</th>\n",
       "    </tr>\n",
       "  </thead>\n",
       "  <tbody>\n",
       "    <tr>\n",
       "      <th>aaron</th>\n",
       "      <td>-11.472694</td>\n",
       "    </tr>\n",
       "    <tr>\n",
       "      <th>obamacare repeal</th>\n",
       "      <td>-11.472694</td>\n",
       "    </tr>\n",
       "    <tr>\n",
       "      <th>danger new</th>\n",
       "      <td>-11.472694</td>\n",
       "    </tr>\n",
       "    <tr>\n",
       "      <th>danger new york</th>\n",
       "      <td>-11.472694</td>\n",
       "    </tr>\n",
       "    <tr>\n",
       "      <th>obamacare lite</th>\n",
       "      <td>-11.472694</td>\n",
       "    </tr>\n",
       "    <tr>\n",
       "      <th>obamacare exchange</th>\n",
       "      <td>-11.472694</td>\n",
       "    </tr>\n",
       "    <tr>\n",
       "      <th>danish</th>\n",
       "      <td>-11.472694</td>\n",
       "    </tr>\n",
       "    <tr>\n",
       "      <th>obamacare breitbart</th>\n",
       "      <td>-11.472694</td>\n",
       "    </tr>\n",
       "    <tr>\n",
       "      <th>obamacare bill</th>\n",
       "      <td>-11.472694</td>\n",
       "    </tr>\n",
       "    <tr>\n",
       "      <th>obamacare repeal breitbart</th>\n",
       "      <td>-11.472694</td>\n",
       "    </tr>\n",
       "  </tbody>\n",
       "</table>\n",
       "</div>"
      ],
      "text/plain": [
       "                                    0\n",
       "aaron                      -11.472694\n",
       "obamacare repeal           -11.472694\n",
       "danger new                 -11.472694\n",
       "danger new york            -11.472694\n",
       "obamacare lite             -11.472694\n",
       "obamacare exchange         -11.472694\n",
       "danish                     -11.472694\n",
       "obamacare breitbart        -11.472694\n",
       "obamacare bill             -11.472694\n",
       "obamacare repeal breitbart -11.472694"
      ]
     },
     "execution_count": 292,
     "metadata": {},
     "output_type": "execute_result"
    }
   ],
   "source": [
    "## Most Fake \n",
    "pd.DataFrame(classifier.coef_[0],index=feature_names).sort_values(ascending=True,by=0).head(10)"
   ]
  },
  {
   "cell_type": "markdown",
   "id": "9dbaea88",
   "metadata": {},
   "source": [
    "## 2. Using LSTM"
   ]
  },
  {
   "cell_type": "code",
   "execution_count": 293,
   "id": "1a65fa4c",
   "metadata": {},
   "outputs": [],
   "source": [
    "text=messages['title']"
   ]
  },
  {
   "cell_type": "code",
   "execution_count": 294,
   "id": "c26fd017",
   "metadata": {},
   "outputs": [],
   "source": [
    "import tensorflow as tf"
   ]
  },
  {
   "cell_type": "code",
   "execution_count": 295,
   "id": "1e34b90d",
   "metadata": {},
   "outputs": [],
   "source": [
    "from tensorflow.keras.models import Sequential\n",
    "from keras.preprocessing.sequence import pad_sequences\n",
    "from keras.layers import Embedding, LSTM, Dense\n",
    "from keras.preprocessing.text import one_hot"
   ]
  },
  {
   "cell_type": "code",
   "execution_count": 296,
   "id": "fb14e6cd",
   "metadata": {},
   "outputs": [],
   "source": [
    "### vocubulary size\n",
    "voc_size=5000"
   ]
  },
  {
   "cell_type": "code",
   "execution_count": 297,
   "id": "49b74a97",
   "metadata": {},
   "outputs": [],
   "source": [
    "x_input=text_preprocessing(messages['title'])"
   ]
  },
  {
   "cell_type": "code",
   "execution_count": 298,
   "id": "2523a712",
   "metadata": {},
   "outputs": [
    {
     "data": {
      "text/plain": [
       "['house dem aide even see comey letter jason chaffetz tweeted',\n",
       " 'flynn hillary clinton big woman campus breitbart']"
      ]
     },
     "execution_count": 298,
     "metadata": {},
     "output_type": "execute_result"
    }
   ],
   "source": [
    "x_input[:2]"
   ]
  },
  {
   "cell_type": "code",
   "execution_count": 299,
   "id": "0516377d",
   "metadata": {},
   "outputs": [
    {
     "name": "stdout",
     "output_type": "stream",
     "text": [
      "[[2666, 4830, 4137, 4677, 3420, 1730, 253, 4722, 936, 4689], [2328, 1744, 3961, 1283, 489, 3950, 3810], [3440, 4269, 2544, 1742], [1359, 4997, 4610, 2434, 1536, 101], [3293, 489, 4870, 982, 3593, 4864, 489, 917, 3359, 1727]]\n"
     ]
    }
   ],
   "source": [
    "# OneHot Representation\n",
    "onehot_rep=[one_hot(sent,voc_size) for sent in x_input]\n",
    "print(onehot_rep[:5])"
   ]
  },
  {
   "cell_type": "code",
   "execution_count": 300,
   "id": "cce81391",
   "metadata": {},
   "outputs": [
    {
     "name": "stdout",
     "output_type": "stream",
     "text": [
      "47\n"
     ]
    }
   ],
   "source": [
    "sent_length=0\n",
    "for i in range(len(onehot_rep)):\n",
    "    if len(onehot_rep[i])>sent_length:\n",
    "        sent_length=len(onehot_rep[i])\n",
    "print(sent_length)"
   ]
  },
  {
   "cell_type": "code",
   "execution_count": 301,
   "id": "3880439c",
   "metadata": {},
   "outputs": [],
   "source": [
    "# Setting a greater number to sent_length to provide padding\n",
    "sent_length=50"
   ]
  },
  {
   "cell_type": "code",
   "execution_count": 302,
   "id": "626595c9",
   "metadata": {},
   "outputs": [
    {
     "name": "stdout",
     "output_type": "stream",
     "text": [
      "[[   0    0    0    0    0    0    0    0    0    0    0    0    0    0\n",
      "     0    0    0    0    0    0    0    0    0    0    0    0    0    0\n",
      "     0    0    0    0    0    0    0    0    0    0    0    0 2666 4830\n",
      "  4137 4677 3420 1730  253 4722  936 4689]\n",
      " [   0    0    0    0    0    0    0    0    0    0    0    0    0    0\n",
      "     0    0    0    0    0    0    0    0    0    0    0    0    0    0\n",
      "     0    0    0    0    0    0    0    0    0    0    0    0    0    0\n",
      "     0 2328 1744 3961 1283  489 3950 3810]]\n"
     ]
    }
   ],
   "source": [
    "# Embeddeing Representation\n",
    "embedded_docs=pad_sequences(onehot_rep,padding='pre',maxlen=sent_length)\n",
    "print(embedded_docs[:2])"
   ]
  },
  {
   "cell_type": "code",
   "execution_count": 303,
   "id": "a792f0c1",
   "metadata": {},
   "outputs": [],
   "source": [
    "# Creating model\n",
    "embedding_vector_features=100 # no of features (groups you want to form to add similar words)\n",
    "model=Sequential()\n",
    "model.add(Embedding(voc_size,embedding_vector_features,input_length=sent_length))\n",
    "model.add(LSTM(100))\n",
    "model.add(Dense(1,activation='sigmoid'))\n",
    "model.compile(loss='binary_crossentropy',optimizer='adam',metrics='accuracy')"
   ]
  },
  {
   "cell_type": "code",
   "execution_count": 304,
   "id": "af9baa86",
   "metadata": {},
   "outputs": [
    {
     "name": "stdout",
     "output_type": "stream",
     "text": [
      "Model: \"sequential_1\"\n",
      "_________________________________________________________________\n",
      " Layer (type)                Output Shape              Param #   \n",
      "=================================================================\n",
      " embedding_1 (Embedding)     (None, 50, 100)           500000    \n",
      "                                                                 \n",
      " lstm_1 (LSTM)               (None, 100)               80400     \n",
      "                                                                 \n",
      " dense_1 (Dense)             (None, 1)                 101       \n",
      "                                                                 \n",
      "=================================================================\n",
      "Total params: 580,501\n",
      "Trainable params: 580,501\n",
      "Non-trainable params: 0\n",
      "_________________________________________________________________\n"
     ]
    }
   ],
   "source": [
    "model.summary()"
   ]
  },
  {
   "cell_type": "code",
   "execution_count": 305,
   "id": "67b66af6",
   "metadata": {},
   "outputs": [],
   "source": [
    "import numpy as np"
   ]
  },
  {
   "cell_type": "code",
   "execution_count": 306,
   "id": "f444ea9b",
   "metadata": {},
   "outputs": [],
   "source": [
    "x_lstm=np.array(embedded_docs)\n",
    "y_lstm=np.array(data.label)"
   ]
  },
  {
   "cell_type": "code",
   "execution_count": 307,
   "id": "ec045b37",
   "metadata": {},
   "outputs": [
    {
     "data": {
      "text/plain": [
       "((18285, 50), (18285,))"
      ]
     },
     "execution_count": 307,
     "metadata": {},
     "output_type": "execute_result"
    }
   ],
   "source": [
    "x_lstm.shape,y_lstm.shape"
   ]
  },
  {
   "cell_type": "code",
   "execution_count": 308,
   "id": "f9e09d20",
   "metadata": {},
   "outputs": [],
   "source": [
    "x_train_lstm,x_test_lstm,y_train_lstm,y_test_lstm=train_test_split(x_lstm,y_lstm,test_size=0.2,random_state=27)"
   ]
  },
  {
   "cell_type": "code",
   "execution_count": 309,
   "id": "5b7a81ff",
   "metadata": {},
   "outputs": [
    {
     "name": "stdout",
     "output_type": "stream",
     "text": [
      "Epoch 1/3\n",
      "229/229 [==============================] - 25s 96ms/step - loss: 0.2770 - accuracy: 0.8808 - val_loss: 0.1888 - val_accuracy: 0.9169\n",
      "Epoch 2/3\n",
      "229/229 [==============================] - 23s 101ms/step - loss: 0.1308 - accuracy: 0.9504 - val_loss: 0.2094 - val_accuracy: 0.9095\n",
      "Epoch 3/3\n",
      "229/229 [==============================] - 24s 107ms/step - loss: 0.0869 - accuracy: 0.9692 - val_loss: 0.2128 - val_accuracy: 0.9193\n"
     ]
    },
    {
     "data": {
      "text/plain": [
       "<keras.callbacks.History at 0x14180cbf1f0>"
      ]
     },
     "execution_count": 309,
     "metadata": {},
     "output_type": "execute_result"
    }
   ],
   "source": [
    "## Model training\n",
    "model.fit(x_train_lstm,y_train_lstm,validation_data=(x_test_lstm,y_test_lstm),epochs=3,batch_size=64)"
   ]
  },
  {
   "cell_type": "code",
   "execution_count": 310,
   "id": "ad087fc7",
   "metadata": {},
   "outputs": [],
   "source": [
    "lstm_pred=(model.predict(x_test_lstm) > 0.5).astype(\"int32\")"
   ]
  },
  {
   "cell_type": "code",
   "execution_count": 311,
   "id": "e514a8ab",
   "metadata": {},
   "outputs": [
    {
     "data": {
      "text/plain": [
       "array([[1],\n",
       "       [1],\n",
       "       [1],\n",
       "       [1],\n",
       "       [0],\n",
       "       [1],\n",
       "       [1],\n",
       "       [0],\n",
       "       [1],\n",
       "       [0]])"
      ]
     },
     "execution_count": 311,
     "metadata": {},
     "output_type": "execute_result"
    }
   ],
   "source": [
    "lstm_pred[:10]"
   ]
  },
  {
   "cell_type": "code",
   "execution_count": 312,
   "id": "f9c96b1e",
   "metadata": {},
   "outputs": [
    {
     "data": {
      "text/plain": [
       "array([[1879,  208],\n",
       "       [  87, 1483]], dtype=int64)"
      ]
     },
     "execution_count": 312,
     "metadata": {},
     "output_type": "execute_result"
    }
   ],
   "source": [
    "confusion_matrix(y_test_lstm,lstm_pred)"
   ]
  },
  {
   "cell_type": "code",
   "execution_count": null,
   "id": "605cf4d0",
   "metadata": {},
   "outputs": [],
   "source": []
  }
 ],
 "metadata": {
  "kernelspec": {
   "display_name": "Python 3",
   "language": "python",
   "name": "python3"
  },
  "language_info": {
   "codemirror_mode": {
    "name": "ipython",
    "version": 3
   },
   "file_extension": ".py",
   "mimetype": "text/x-python",
   "name": "python",
   "nbconvert_exporter": "python",
   "pygments_lexer": "ipython3",
   "version": "3.8.8"
  }
 },
 "nbformat": 4,
 "nbformat_minor": 5
}
